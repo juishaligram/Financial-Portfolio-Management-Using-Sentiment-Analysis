{
 "cells": [
  {
   "cell_type": "code",
   "execution_count": 1,
   "metadata": {},
   "outputs": [
    {
     "data": {
      "application/javascript": [
       "IPython.notebook.set_autosave_interval(60000)"
      ]
     },
     "metadata": {},
     "output_type": "display_data"
    },
    {
     "name": "stdout",
     "output_type": "stream",
     "text": [
      "Autosaving every 60 seconds\n"
     ]
    }
   ],
   "source": [
    "autosave 60"
   ]
  },
  {
   "cell_type": "code",
   "execution_count": 2,
   "metadata": {},
   "outputs": [],
   "source": [
    "import pandas as pd\n",
    "import pandas_datareader as pdr\n",
    "import datetime as dt\n",
    "from pandas_datareader._utils import RemoteDataError\n",
    "from pandas_datareader import data as pdrr\n",
    "import fix_yahoo_finance as yf\n",
    "import imp\n",
    "#import MySQLdb as msql\n",
    "import pymysql as pymysql\n",
    "import pymysql.cursors"
   ]
  },
  {
   "cell_type": "code",
   "execution_count": 3,
   "metadata": {},
   "outputs": [],
   "source": [
    "con = pymysql.connect('localhost', 'root', 'Capstone', 'portfolio_management')\n",
    "ticker=[]\n",
    "\n",
    "with con:\n",
    "    \n",
    "    cur = con.cursor()\n",
    "    cur.execute(\"SELECT * FROM twentyfivecompanies\")\n",
    "\n",
    "    rows = cur.fetchall()\n",
    "\n",
    "    for row in rows:\n",
    "        ticker.append(row[1])"
   ]
  },
  {
   "cell_type": "code",
   "execution_count": 4,
   "metadata": {},
   "outputs": [],
   "source": [
    "yf.pdr_override() \n",
    "\n",
    "#ticker = ['AAPL','MSFT','GOOGL','GOOG','FB','V','MA','CSCO','INTC','ORCL','NVDA','IBM','ADBE','CRM','ACN','QCOM','TXN','PYPL','AVGO','ADP','ATVI','INTU','MU','CTSH','HPQ']\n",
    "start = dt.datetime(2018,10,19)\n",
    "end = dt.datetime(2018,11,30)\n",
    "\n",
    "stock_data = pdr.get_data_yahoo(ticker, start=start, end=end)"
   ]
  },
  {
   "cell_type": "code",
   "execution_count": 5,
   "metadata": {},
   "outputs": [],
   "source": [
    "for a in ['Adj Close', 'Volume','High','Low','Open']:\n",
    "    del stock_data[a]"
   ]
  },
  {
   "cell_type": "code",
   "execution_count": 6,
   "metadata": {},
   "outputs": [],
   "source": [
    "stock_export = stock_data['Close']"
   ]
  },
  {
   "cell_type": "code",
   "execution_count": 7,
   "metadata": {},
   "outputs": [
    {
     "data": {
      "text/html": [
       "<div>\n",
       "<style scoped>\n",
       "    .dataframe tbody tr th:only-of-type {\n",
       "        vertical-align: middle;\n",
       "    }\n",
       "\n",
       "    .dataframe tbody tr th {\n",
       "        vertical-align: top;\n",
       "    }\n",
       "\n",
       "    .dataframe thead th {\n",
       "        text-align: right;\n",
       "    }\n",
       "</style>\n",
       "<table border=\"1\" class=\"dataframe\">\n",
       "  <thead>\n",
       "    <tr style=\"text-align: right;\">\n",
       "      <th>Symbols</th>\n",
       "      <th>AAPL</th>\n",
       "      <th>ADP</th>\n",
       "      <th>ATVI</th>\n",
       "      <th>CSCO</th>\n",
       "      <th>FB</th>\n",
       "      <th>GOOG</th>\n",
       "      <th>GOOGL</th>\n",
       "      <th>HP</th>\n",
       "      <th>IBM</th>\n",
       "      <th>INTC</th>\n",
       "      <th>MA</th>\n",
       "      <th>MSFT</th>\n",
       "      <th>NVDA</th>\n",
       "      <th>ORCL</th>\n",
       "      <th>PYPL</th>\n",
       "      <th>V</th>\n",
       "    </tr>\n",
       "    <tr>\n",
       "      <th>Date</th>\n",
       "      <th></th>\n",
       "      <th></th>\n",
       "      <th></th>\n",
       "      <th></th>\n",
       "      <th></th>\n",
       "      <th></th>\n",
       "      <th></th>\n",
       "      <th></th>\n",
       "      <th></th>\n",
       "      <th></th>\n",
       "      <th></th>\n",
       "      <th></th>\n",
       "      <th></th>\n",
       "      <th></th>\n",
       "      <th></th>\n",
       "      <th></th>\n",
       "    </tr>\n",
       "  </thead>\n",
       "  <tbody>\n",
       "    <tr>\n",
       "      <th>2018-10-19</th>\n",
       "      <td>219.309998</td>\n",
       "      <td>143.410004</td>\n",
       "      <td>69.75</td>\n",
       "      <td>45.34</td>\n",
       "      <td>154.050003</td>\n",
       "      <td>1096.459961</td>\n",
       "      <td>1105.180054</td>\n",
       "      <td>66.150002</td>\n",
       "      <td>129.100006</td>\n",
       "      <td>44.0</td>\n",
       "      <td>203.059998</td>\n",
       "      <td>108.660004</td>\n",
       "      <td>229.169998</td>\n",
       "      <td>47.59</td>\n",
       "      <td>84.779999</td>\n",
       "      <td>140.080002</td>\n",
       "    </tr>\n",
       "  </tbody>\n",
       "</table>\n",
       "</div>"
      ],
      "text/plain": [
       "Symbols           AAPL         ADP   ATVI   CSCO          FB         GOOG  \\\n",
       "Date                                                                        \n",
       "2018-10-19  219.309998  143.410004  69.75  45.34  154.050003  1096.459961   \n",
       "\n",
       "Symbols           GOOGL         HP         IBM  INTC          MA        MSFT  \\\n",
       "Date                                                                           \n",
       "2018-10-19  1105.180054  66.150002  129.100006  44.0  203.059998  108.660004   \n",
       "\n",
       "Symbols           NVDA   ORCL       PYPL           V  \n",
       "Date                                                  \n",
       "2018-10-19  229.169998  47.59  84.779999  140.080002  "
      ]
     },
     "execution_count": 7,
     "metadata": {},
     "output_type": "execute_result"
    }
   ],
   "source": [
    "stock_export.head(1)"
   ]
  },
  {
   "cell_type": "code",
   "execution_count": 8,
   "metadata": {},
   "outputs": [],
   "source": [
    "stock_export = stock_export.reset_index()"
   ]
  },
  {
   "cell_type": "markdown",
   "metadata": {},
   "source": [
    "### Collecting Index Data"
   ]
  },
  {
   "cell_type": "code",
   "execution_count": 4,
   "metadata": {},
   "outputs": [],
   "source": [
    "yf.pdr_override() \n",
    "\n",
    "ticker_idx = ['^DJI','^GSPC']\n",
    "start = dt.datetime(2018,10,19)\n",
    "end = dt.datetime(2018,11,30)\n",
    "\n",
    "index_data = pdr.get_data_yahoo(ticker_idx, start=start, end=end)"
   ]
  },
  {
   "cell_type": "code",
   "execution_count": 5,
   "metadata": {},
   "outputs": [],
   "source": [
    "for a in ['Adj Close', 'Volume','High','Low','Open']:\n",
    "    del index_data[a]"
   ]
  },
  {
   "cell_type": "code",
   "execution_count": 6,
   "metadata": {},
   "outputs": [],
   "source": [
    "index_export = index_data['Close']"
   ]
  },
  {
   "cell_type": "code",
   "execution_count": 7,
   "metadata": {},
   "outputs": [],
   "source": [
    "index_export.to_csv('index_export.csv')"
   ]
  },
  {
   "cell_type": "code",
   "execution_count": 8,
   "metadata": {},
   "outputs": [],
   "source": [
    "index_export = index_export.reset_index()"
   ]
  },
  {
   "cell_type": "markdown",
   "metadata": {},
   "source": [
    "### Connecting to MySQL DB"
   ]
  },
  {
   "cell_type": "markdown",
   "metadata": {},
   "source": [
    "#### Loading Benchmark Data - snp500 and dowjones"
   ]
  },
  {
   "cell_type": "code",
   "execution_count": 14,
   "metadata": {},
   "outputs": [],
   "source": [
    "Date=[]\n",
    "DJI=[]\n",
    "GSPC=[]\n",
    "\n",
    "for i in range(0,len(index_export)):\n",
    "    Date.append(index_export.iloc[i]['Date'].strftime(\"%Y-%m-%d\"))\n",
    "    DJI.append(float(index_export.iloc[i]['^DJI']))\n",
    "    GSPC.append(float(index_export.iloc[i]['^GSPC']))"
   ]
  },
  {
   "cell_type": "code",
   "execution_count": 15,
   "metadata": {},
   "outputs": [],
   "source": [
    "# Connect to the database\n",
    "connection = pymysql.connect(host='localhost',\n",
    "                             user='root',\n",
    "                             password='Capstone',\n",
    "                             db='portfolio_management',\n",
    "                             charset='utf8mb4',\n",
    "                             cursorclass=pymysql.cursors.DictCursor)\n",
    "\n",
    "try:\n",
    "    with connection.cursor() as cursor:\n",
    "        # Create a new record\n",
    "        sql = \"INSERT INTO indexdata (value_date, dowjones, snp500) VALUES (%s,%s,%s)\"\n",
    "        for i in range(0,len(index_export)):\n",
    "            cursor.execute(sql,(Date[i],DJI[i],GSPC[i]))\n",
    "\n",
    "    # connection is not autocommit by default. So you must commit to save\n",
    "    # your changes.\n",
    "    connection.commit()\n",
    "\n",
    "finally:\n",
    "    connection.close()"
   ]
  },
  {
   "cell_type": "code",
   "execution_count": 16,
   "metadata": {},
   "outputs": [],
   "source": [
    "sys_date = dt.datetime.now()"
   ]
  },
  {
   "cell_type": "markdown",
   "metadata": {},
   "source": [
    "#### Loading Stock data (Company)"
   ]
  },
  {
   "cell_type": "code",
   "execution_count": 9,
   "metadata": {},
   "outputs": [],
   "source": [
    "colname = list(stock_export.columns.values)"
   ]
  },
  {
   "cell_type": "code",
   "execution_count": 10,
   "metadata": {},
   "outputs": [],
   "source": [
    "Date2=[]\n",
    "COL2=[]\n",
    "TICKR_SYMBOL=[]\n",
    "\n",
    "for a in range(1,len(colname)):\n",
    "    for i in range(0,len(stock_export)):\n",
    "        Date2.append(stock_export.iloc[i]['Date'].strftime(\"%Y-%m-%d\"))\n",
    "        COL2.append(float(stock_export.iloc[i][colname[a]]))\n",
    "        TICKR_SYMBOL.append(colname[a])\n",
    "    #ACN.append(float(stock_export.iloc[i]['ACN']))"
   ]
  },
  {
   "cell_type": "code",
   "execution_count": 11,
   "metadata": {},
   "outputs": [],
   "source": [
    "# Connect to the database\n",
    "connection = pymysql.connect(host='localhost',\n",
    "                             user='root',\n",
    "                             password='Capstone',\n",
    "                             db='portfolio_management',\n",
    "                             charset='utf8mb4',\n",
    "                             cursorclass=pymysql.cursors.DictCursor)\n",
    "\n",
    "try:\n",
    "    with connection.cursor() as cursor:\n",
    "        # Create a new record\n",
    "        sql = \"INSERT INTO stockdata (value_date, stockprice, tickersymbol) VALUES (%s,%s,%s)\"\n",
    "        for i in range(0,len(COL2)):\n",
    "            cursor.execute(sql,(Date2[i],COL2[i],TICKR_SYMBOL[i]))\n",
    "\n",
    "    # connection is not autocommit by default. So you must commit to save\n",
    "    # your changes.\n",
    "    connection.commit()\n",
    "\n",
    "finally:\n",
    "    connection.close()"
   ]
  },
  {
   "cell_type": "code",
   "execution_count": null,
   "metadata": {},
   "outputs": [],
   "source": []
  }
 ],
 "metadata": {
  "kernelspec": {
   "display_name": "Python 3",
   "language": "python",
   "name": "python3"
  },
  "language_info": {
   "codemirror_mode": {
    "name": "ipython",
    "version": 3
   },
   "file_extension": ".py",
   "mimetype": "text/x-python",
   "name": "python",
   "nbconvert_exporter": "python",
   "pygments_lexer": "ipython3",
   "version": "3.7.0"
  }
 },
 "nbformat": 4,
 "nbformat_minor": 2
}
