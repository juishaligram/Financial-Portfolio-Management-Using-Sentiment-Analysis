{
 "cells": [
  {
   "cell_type": "code",
   "execution_count": 16,
   "metadata": {},
   "outputs": [],
   "source": [
    "import pandas as pd\n",
    "#import pandas.io.data as web   # this wont work.. so need to install pandas_datareader \n",
    "import pandas_datareader as web # on the anaconda prompt do conda install pandas-datareader\n",
    "import datetime\n",
    "\n",
    "import pandas_datareader as pdr\n",
    "from pandas_datareader._utils import RemoteDataError\n",
    "from pandas_datareader import data as pdrr\n",
    "#import fix_yahoo_finance as yf\n",
    "import imp\n",
    "#import MySQLdb as msql\n",
    "import pymysql as pymysql\n",
    "import pymysql.cursors"
   ]
  },
  {
   "cell_type": "code",
   "execution_count": 17,
   "metadata": {},
   "outputs": [],
   "source": [
    "import random\n",
    "import numpy\n",
    "import matplotlib.pyplot as plt\n",
    "\n",
    "import pandas as pd\n",
    "#import pandas.io.data as web   # this wont work.. so need to install pandas_datareader \n",
    "import pandas_datareader as web # on the anaconda prompt do conda install pandas-datareader\n",
    "import datetime\n",
    "\n",
    "import random\n",
    "import numpy\n",
    "import matplotlib.pyplot as plt"
   ]
  },
  {
   "cell_type": "markdown",
   "metadata": {},
   "source": [
    "## CURRENT LIST"
   ]
  },
  {
   "cell_type": "markdown",
   "metadata": {},
   "source": [
    "## need to push emailID and Datetime (current) to database"
   ]
  },
  {
   "cell_type": "code",
   "execution_count": 18,
   "metadata": {},
   "outputs": [],
   "source": [
    "#wallet_list is a 3-D array with the first dimension being the week. for loop for a week 1-7.. wallet_klist[week] will give whole\n",
    "# array which has tickersymbol,sum etc..\n",
    "\n",
    "def db_portfolio_wallet_update():\n",
    "    #try with exceutemany\n",
    "    con = pymysql.connect('localhost', 'root', 'Capstone', 'portfolio_management')\n",
    "    \n",
    "    query_porfolio_insert = \"INSERT INTO portfolio(EmailID, Week, Ticker, Number_of_Stocks, Price, Total) values(%s, %s, %s, %s, %s, %s)\"\n",
    "    query_wallet_insert = \"INSERT INTO wallet(EmailId, Worth, Date, Balance, Week) values(%s, %s, %s, %s, %s)\"\n",
    "    \n",
    "    with con:\n",
    "        cur = con.cursor()\n",
    "        for week in range(1,max_weeks+1):\n",
    "            worth = 0\n",
    "            for row in range (10):\n",
    "                time_now = datetime.datetime.now()\n",
    "                args_porfolio = (email, week, wallet_list[week][row][0],wallet_list[week][row][2],wallet_list[week][row][1], wallet_list[week][row][1]*wallet_list[week][row][2] ) \n",
    "                cur.execute(query_porfolio_insert, args_porfolio)\n",
    "                worth = worth + (wallet_list[week][row][1]*wallet_list[week][row][2])\n",
    "            time_now = datetime.datetime.now()\n",
    "            args_wallet = (email, worth, time_now, wallet_bal[week], week)\n",
    "            cur.execute(query_wallet_insert, args_wallet)\n",
    "\n"
   ]
  },
  {
   "cell_type": "code",
   "execution_count": 19,
   "metadata": {},
   "outputs": [],
   "source": [
    "def get_sorted25():\n",
    "    # Make a database connection and get the list of sorted 25 stocks based on twitter sentiment\n",
    "    #return (random.sample(master_list,10))\n",
    "    con = pymysql.connect('localhost', 'root', 'Capstone', 'portfolio_management')\n",
    "        \n",
    "    with con:\n",
    "        cur = con.cursor()\n",
    "        cur.execute(\"select sd.tickersymbol, sd.stockprice, sd.Weeknumber from stockdata sd join weekly_sentiment_scores w on sd.tickersymbol = w.Ticker_Symbol and sd.weeknumber = w.Week_num order by sd.Weeknumber asc, w.Sentiment_score desc\")\n",
    "\n",
    "        #will get all the sorted 25 symbols  from the db table sorted25 from week 1 - 7\n",
    "        rows = cur.fetchall()\n",
    "\n",
    "        for row in rows:\n",
    "            #master_list.append(row[0],row[1])\n",
    "            current_dict[row[2]].update({row[0]:row[1]})\n",
    "        \n",
    "    #return(current_dict)\n",
    "\n",
    "def get_sorted25_test():\n",
    "    #this is the one that will get the list from the db. For testing i have used the random to generate it\n",
    "    master_list = ['AAPL','MSFT','GOOGL','GOOG','FB','V','MA','CSCO','INTC','ORCL','NVDA','IBM','ADBE','CRM','ACN','QCOM','TXN','PYPL','AVGO','ADP','ATVI','INTU','MU','CTSH','HPQ']\n",
    "    for week in range(1,max_weeks+1):\n",
    "        random.shuffle(master_list)\n",
    "        for el in master_list:\n",
    "            #current_dict[week] = {el:90 for el in ran_list}\n",
    "            current_dict[week].update({el:random.randint(70,100)})\n",
    "\n",
    "    \n"
   ]
  },
  {
   "cell_type": "markdown",
   "metadata": {},
   "source": [
    "## Most recent change here as of 11/10/2018, 4:10pm. Changed the index because emailID is added"
   ]
  },
  {
   "cell_type": "code",
   "execution_count": 20,
   "metadata": {},
   "outputs": [],
   "source": [
    "\n",
    "def get_initial_inv_amt():\n",
    "    # Make a database connection and get the entries from the wallet table. 0th week's worth = intial investment amount\n",
    "    # db wallet [week, worth, balance]\n",
    "    con = pymysql.connect('localhost', 'root', 'Capstone', 'portfolio_management')\n",
    "    \n",
    "    with con:\n",
    "        cur = con.cursor()\n",
    "        cur.execute(\"select a.EmailID, a.Week, a.Worth from wallet a where a.week=0\")\n",
    "        #cur.execute(\"query to return {emailId, week#, amount} {(0,1000000),(1,999999),(1,9999998).....} where week# = 0 has the initial investment amount\")\n",
    "        rows = cur.fetchall()\n",
    "\n",
    "        for row in rows:\n",
    "            mail[0] = row[0]\n",
    "            if(row[1]==0):\n",
    "                return(row[2])\n",
    "    \n",
    "    return(0)\n",
    "\n",
    "def get_initial_inv_amt_test():\n",
    "    return (100000)"
   ]
  },
  {
   "cell_type": "code",
   "execution_count": null,
   "metadata": {},
   "outputs": [],
   "source": []
  },
  {
   "cell_type": "code",
   "execution_count": 21,
   "metadata": {},
   "outputs": [],
   "source": [
    "def new_additions(set_a, set_b):\n",
    "    #return (set_a.union(set_b)-set_a.intersection(set_b))\n",
    "    return (set_b - set_a)"
   ]
  },
  {
   "cell_type": "code",
   "execution_count": 22,
   "metadata": {},
   "outputs": [],
   "source": [
    "def new_list(set_a, set_b):\n",
    "    #return (set_a - (set_a.union(set_b)-set_a.intersection(set_b)))\n",
    "    return ((set_a -(set_a - set_b)).union(set_b - set_a))"
   ]
  },
  {
   "cell_type": "code",
   "execution_count": 23,
   "metadata": {},
   "outputs": [],
   "source": [
    "def sell_list(set_a, set_b):\n",
    "    return (set_a - set_b)"
   ]
  },
  {
   "cell_type": "code",
   "execution_count": 24,
   "metadata": {},
   "outputs": [],
   "source": [
    "def create_porfolio(set_a,week,init_inv_amt):\n",
    " # get from dB (get from dB)  \n",
    "    wallet = init_inv_amt\n",
    "    min = wallet #Some huge number\n",
    "    per_stock = wallet/10\n",
    "    idx = 0\n",
    "    lucky_idx = 0\n",
    "    lucky = \"na\"\n",
    "    for x in set_a:\n",
    "        stock_price = current_dict[week].get(x)\n",
    "        if (stock_price < min):\n",
    "            min = stock_price\n",
    "            lucky = x\n",
    "            lucky_idx = idx\n",
    "        num = int(per_stock/stock_price)\n",
    "        wallet = wallet - num*stock_price\n",
    "        #wallet_list[week][idx] = [x,stock_price,num,num*stock_price]  CHANGE\n",
    "        wallet_list[week][idx][0] = x\n",
    "        wallet_list[week][idx][1] = stock_price\n",
    "        wallet_list[week][idx][2] = num\n",
    "        wallet_list[week][idx][3] = num*stock_price\n",
    "        idx = idx + 1\n",
    "    if (wallet > 0 and lucky != \"na\"):\n",
    "        #lucky_stock_price = current_dict[week].get(lucky)  CHANGE\n",
    "        lucky_stock_price = wallet_list[week][lucky_idx][1]\n",
    "        num = int(wallet/lucky_stock_price)\n",
    "        wallet = wallet - num*lucky_stock_price\n",
    "        wallet_list[week][lucky_idx][2] += num\n",
    "        wallet_list[week][lucky_idx][3] += num*lucky_stock_price\n",
    "    return(wallet)   "
   ]
  },
  {
   "cell_type": "code",
   "execution_count": 25,
   "metadata": {},
   "outputs": [],
   "source": [
    "def find_stock(sym,week):\n",
    "    for x in range(len(wallet_list[week])):\n",
    "        if (wallet_list[week][x][0] == sym):\n",
    "            return (x)\n",
    "    return(-1)"
   ]
  },
  {
   "cell_type": "code",
   "execution_count": 26,
   "metadata": {},
   "outputs": [],
   "source": [
    "def modify_porfolio(set_sell,new,set_a,week):\n",
    "    wallet = wallet_bal[week-1]\n",
    "    idx = 0\n",
    "    lucky_idx = 0\n",
    "    lucky = \"na\"\n",
    "\n",
    "    for x in set_sell:\n",
    "        for i in range(10):\n",
    "            if (wallet_list[week-1][i][0] == x):\n",
    "                wallet = wallet + wallet_list[week-1][i][2] * current_dict[week].get(x)\n",
    "    min = wallet #Some huge number\n",
    "    if (new == 0):\n",
    "        new = 1\n",
    "    per_stock = wallet/new\n",
    "    \n",
    "    \n",
    "    for x in set_a:\n",
    "        prev = find_stock(x,week-1)\n",
    "        if (prev > -1):\n",
    "            # this means this is already in portfolio \n",
    "            # check this again\n",
    "            #wallet_list[week][idx] = wallet_list[week-1][prev]  CHANGE\n",
    "            wallet_list[week][idx][0] = x\n",
    "            wallet_list[week][idx][2] = wallet_list[week-1][prev][2]\n",
    "            stock_price = current_dict[week].get(x)\n",
    "            wallet_list[week][idx][1] = stock_price\n",
    "            wallet_list[week][idx][3] = stock_price * wallet_list[week][idx][2]\n",
    "        else:\n",
    "            stock_price = current_dict[week].get(x)\n",
    "            num = int(per_stock/stock_price)\n",
    "            wallet = wallet - num*stock_price\n",
    "            #wallet_list[week][idx] =[x,stock_price,num,num*stock_price] CHANGE\n",
    "            wallet_list[week][idx][0] = x\n",
    "            wallet_list[week][idx][1] = stock_price\n",
    "            wallet_list[week][idx][2] = num\n",
    "            wallet_list[week][idx][3] = num*stock_price\n",
    "            if (stock_price < min):\n",
    "                min = stock_price\n",
    "                lucky = x\n",
    "                lucky_idx = idx\n",
    "        idx = idx +1\n",
    "    if (wallet > 0 and lucky != \"na\"):\n",
    "        #CHANGE\n",
    "        # lucky_stock_price = current_dict[week].get(lucky) CHANGE\n",
    "        lucky_stock_price = wallet_list[week][lucky_idx][1]\n",
    "        num = int(wallet/lucky_stock_price)\n",
    "        wallet = wallet - num*lucky_stock_price\n",
    "        wallet_list[week][lucky_idx][2] += num\n",
    "        wallet_list[week][lucky_idx][3] += num*lucky_stock_price\n",
    "        \n",
    "    return (wallet)"
   ]
  },
  {
   "cell_type": "code",
   "execution_count": 27,
   "metadata": {},
   "outputs": [],
   "source": [
    "def pretty_print(listOfLists):\n",
    "    worth = 0\n",
    "    print (\"%11s%11s%11s%11s\" % (\"Stock\",\"Price\",\"Number\",\"Total\"))\n",
    "    print (\"%11s%11s%11s%11s\" % (\"-----\",\"-----\",\"------\",\"-----\"))\n",
    "    for row in range(len(listOfLists)):\n",
    "        if (listOfLists[row][1] != 0):\n",
    "            print (\"%11s%11s%11s%11s\" % (listOfLists[row][0],listOfLists[row][1],listOfLists[row][2],listOfLists[row][3]))\n",
    "            worth = worth + listOfLists[row][3]\n",
    "            print(' ') \n",
    "    print (\"Portfolio Current Worth \", worth)\n",
    "    print (\"\")\n",
    "    "
   ]
  },
  {
   "cell_type": "code",
   "execution_count": 28,
   "metadata": {},
   "outputs": [],
   "source": [
    "def pretty_print1(listOfLists):\n",
    "    print(listOfLists)\n",
    "    \n",
    "    "
   ]
  },
  {
   "cell_type": "markdown",
   "metadata": {},
   "source": [
    "# Main"
   ]
  },
  {
   "cell_type": "code",
   "execution_count": 29,
   "metadata": {},
   "outputs": [],
   "source": [
    "# Main     \n",
    "mail = [10]\n",
    "max_weeks = 6 \n",
    "inv_amt = get_initial_inv_amt()  #to get the initial user investment amount of week 0\n",
    "email = mail[0]\n",
    "\n",
    "#create current list of dictionaries for every week. (list of 7 dictionaries)\n",
    "current_dict = [{} for i in range(max_weeks+1)]\n",
    "get_sorted25()\n",
    "\n",
    "#print(\"Hello\")\n",
    "#print(current_dict)\n",
    "\n",
    "wallet_list = [[[]]]\n",
    "wallet_list = [[[0 for _ in range(10)] for _ in range(10)] for _ in range(8)]\n",
    "wallet_bal = [0 for _ in range(10)]"
   ]
  },
  {
   "cell_type": "code",
   "execution_count": 30,
   "metadata": {
    "scrolled": false
   },
   "outputs": [
    {
     "name": "stdout",
     "output_type": "stream",
     "text": [
      "================================================ Week 1  ================================================\n",
      "\n",
      "Current Portfolio is        {'ADP', 'ORCL', 'MSFT', 'NVDA', 'IBM', 'V', 'FB', 'MA', 'AAPL', 'ATVI'}\n",
      "This week's top 10 list is  {'ADP', 'ORCL', 'MSFT', 'NVDA', 'IBM', 'V', 'FB', 'MA', 'AAPL', 'ATVI'}\n",
      "New ones to buy are         set()\n",
      "Sell List                   set()\n",
      "New List is                 {'ADP', 'ORCL', 'MSFT', 'NVDA', 'IBM', 'V', 'FB', 'MA', 'AAPL', 'ATVI'}\n",
      "\n",
      "Portfolio investment distribution\n",
      "================================\n",
      "      Stock      Price     Number      Total\n",
      "      -----      -----     ------      -----\n",
      "        ADP     143.41        697   99956.77\n",
      " \n",
      "       ORCL      47.59       2116100700.44000000002\n",
      " \n",
      "       MSFT     108.66        920    99967.2\n",
      " \n",
      "       NVDA     229.17        436   99918.12\n",
      " \n",
      "        IBM      129.1        774    99923.4\n",
      " \n",
      "          V     140.08        71399877.04000000001\n",
      " \n",
      "         FB     154.05        64999978.45000000001\n",
      " \n",
      "         MA     203.06        492   99905.52\n",
      " \n",
      "       AAPL     219.31        455   99786.05\n",
      " \n",
      "       ATVI      69.75       1433   99951.75\n",
      " \n",
      "Portfolio Current Worth  999964.7400000002\n",
      "\n",
      "Amount remaining in wallet  35.259999999971456\n",
      "\n",
      "\n",
      "================================================ Week 2  ================================================\n",
      "\n",
      "Current Portfolio is        {'ADP', 'ORCL', 'MSFT', 'NVDA', 'IBM', 'V', 'FB', 'MA', 'AAPL', 'ATVI'}\n",
      "This week's top 10 list is  {'FB', 'ORCL', 'CSCO', 'MSFT', 'V', 'GOOG', 'NVDA', 'MA', 'AAPL', 'HP'}\n",
      "New ones to buy are         {'GOOG', 'HP', 'CSCO'}\n",
      "Sell List                   {'ADP', 'IBM', 'ATVI'}\n",
      "New List is                 {'ORCL', 'MSFT', 'CSCO', 'NVDA', 'V', 'GOOG', 'FB', 'MA', 'AAPL', 'HP'}\n",
      "\n",
      "Portfolio investment distribution\n",
      "================================\n",
      "      Stock      Price     Number      Total\n",
      "      -----      -----     ------      -----\n",
      "       ORCL      47.32       2116  100129.12\n",
      " \n",
      "       MSFT     106.96        920    98403.2\n",
      " \n",
      "       CSCO      44.25       2194    97084.5\n",
      " \n",
      "       NVDA     198.29        436   86454.44\n",
      " \n",
      "          V     137.74        71398208.62000000001\n",
      " \n",
      "       GOOG    1071.47         90    96432.3\n",
      " \n",
      "         FB     145.37        649   94345.13\n",
      " \n",
      "         MA     197.49        492   97165.08\n",
      " \n",
      "       AAPL      216.3        455    98416.5\n",
      " \n",
      "         HP      62.67       1544   96762.48\n",
      " \n",
      "Portfolio Current Worth  963401.37\n",
      "\n",
      "Amount remaining in wallet  27.110000000015134\n",
      "\n",
      "\n",
      "================================================ Week 3  ================================================\n",
      "\n",
      "Current Portfolio is        {'ORCL', 'MSFT', 'CSCO', 'NVDA', 'V', 'GOOG', 'FB', 'MA', 'AAPL', 'HP'}\n",
      "This week's top 10 list is  {'ADP', 'ORCL', 'CSCO', 'NVDA', 'V', 'GOOG', 'GOOGL', 'FB', 'AAPL', 'HP'}\n",
      "New ones to buy are         {'ADP', 'GOOGL'}\n",
      "Sell List                   {'MA', 'MSFT'}\n",
      "New List is                 {'ADP', 'FB', 'ORCL', 'CSCO', 'V', 'GOOG', 'GOOGL', 'NVDA', 'AAPL', 'HP'}\n",
      "\n",
      "Portfolio investment distribution\n",
      "================================\n",
      "      Stock      Price     Number      Total\n",
      "      -----      -----     ------      -----\n",
      "        ADP     147.19        691  101708.29\n",
      " \n",
      "         FB     144.96        64994079.04000000001\n",
      " \n",
      "       ORCL      50.61       2116  107090.76\n",
      " \n",
      "       CSCO      47.11       2194  103359.34\n",
      " \n",
      "          V     143.93        713102622.09000000001\n",
      " \n",
      "       GOOG    1066.15         9095953.50000000001\n",
      " \n",
      "      GOOGL    1077.02         93  100162.86\n",
      " \n",
      "       NVDA     205.67        436   89672.12\n",
      " \n",
      "       AAPL     204.47        455   93033.85\n",
      " \n",
      "         HP      62.59       1544   96638.96\n",
      " \n",
      "Portfolio Current Worth  984320.81\n",
      "\n",
      "Amount remaining in wallet  125.40000000002033\n",
      "\n",
      "\n",
      "================================================ Week 4  ================================================\n",
      "\n",
      "Current Portfolio is        {'ADP', 'FB', 'ORCL', 'CSCO', 'V', 'GOOG', 'GOOGL', 'NVDA', 'AAPL', 'HP'}\n",
      "This week's top 10 list is  {'ADP', 'PYPL', 'CSCO', 'MSFT', 'NVDA', 'IBM', 'FB', 'AAPL', 'HP', 'ATVI'}\n",
      "New ones to buy are         {'IBM', 'ATVI', 'PYPL', 'MSFT'}\n",
      "Sell List                   {'GOOG', 'GOOGL', 'V', 'ORCL'}\n",
      "New List is                 {'ADP', 'PYPL', 'CSCO', 'MSFT', 'NVDA', 'IBM', 'FB', 'AAPL', 'HP', 'ATVI'}\n",
      "\n",
      "Portfolio investment distribution\n",
      "================================\n",
      "      Stock      Price     Number      Total\n",
      "      -----      -----     ------      -----\n",
      "        ADP     146.55        691  101266.05\n",
      " \n",
      "       PYPL      85.06       1185   100796.1\n",
      " \n",
      "       CSCO      46.35       2194101691.90000000001\n",
      " \n",
      "       MSFT     108.29        930100709.70000000001\n",
      " \n",
      "       NVDA     164.43        436   71691.48\n",
      " \n",
      "        IBM     121.57        829  100781.53\n",
      " \n",
      "         FB     139.53        649   90554.97\n",
      " \n",
      "       AAPL     193.53        455   88056.15\n",
      " \n",
      "         HP      62.59       1544   96638.96\n",
      " \n",
      "       ATVI      50.94       1981  100912.14\n",
      " \n",
      "Portfolio Current Worth  953098.98\n",
      "\n",
      "Amount remaining in wallet  33.20000000006229\n",
      "\n",
      "\n",
      "================================================ Week 5  ================================================\n",
      "\n",
      "Current Portfolio is        {'ADP', 'PYPL', 'CSCO', 'MSFT', 'NVDA', 'IBM', 'FB', 'AAPL', 'HP', 'ATVI'}\n",
      "This week's top 10 list is  {'ADP', 'ORCL', 'PYPL', 'CSCO', 'NVDA', 'GOOGL', 'FB', 'MA', 'AAPL', 'ATVI'}\n",
      "New ones to buy are         {'MA', 'GOOGL', 'ORCL'}\n",
      "Sell List                   {'IBM', 'HP', 'MSFT'}\n",
      "New List is                 {'ADP', 'ORCL', 'PYPL', 'CSCO', 'NVDA', 'GOOGL', 'FB', 'MA', 'AAPL', 'ATVI'}\n",
      "\n",
      "Portfolio investment distribution\n",
      "================================\n",
      "      Stock      Price     Number      Total\n",
      "      -----      -----     ------      -----\n",
      "        ADP     140.89        69197354.98999999999\n",
      " \n",
      "       ORCL       48.7       196095452.00000000001\n",
      " \n",
      "       PYPL      77.95       1185   92370.75\n",
      " \n",
      "       CSCO      44.54       2194   97720.76\n",
      " \n",
      "       NVDA      145.0        436    63220.0\n",
      " \n",
      "      GOOGL     1030.1         9193739.09999999999\n",
      " \n",
      "         FB     131.73        64985492.76999999999\n",
      " \n",
      "         MA      182.6        518    94586.8\n",
      " \n",
      "       AAPL     172.29        455   78391.95\n",
      " \n",
      "       ATVI      50.05       198199149.04999999999\n",
      " \n",
      "Portfolio Current Worth  897478.1699999999\n",
      "\n",
      "Amount remaining in wallet  1.790000000043051\n",
      "\n",
      "\n",
      "================================================ Week 6  ================================================\n",
      "\n",
      "Current Portfolio is        {'ADP', 'ORCL', 'PYPL', 'CSCO', 'NVDA', 'GOOGL', 'FB', 'MA', 'AAPL', 'ATVI'}\n",
      "This week's top 10 list is  {'ADP', 'FB', 'PYPL', 'IBM', 'V', 'GOOG', 'GOOGL', 'NVDA', 'AAPL', 'HP'}\n",
      "New ones to buy are         {'GOOG', 'IBM', 'V', 'HP'}\n",
      "Sell List                   {'MA', 'ATVI', 'ORCL', 'CSCO'}\n",
      "New List is                 {'ADP', 'PYPL', 'NVDA', 'IBM', 'V', 'GOOG', 'GOOGL', 'FB', 'AAPL', 'HP'}\n",
      "\n",
      "Portfolio investment distribution\n",
      "================================\n",
      "      Stock      Price     Number      Total\n",
      "      -----      -----     ------      -----\n",
      "        ADP     147.42        691101867.21999999999\n",
      " \n",
      "       PYPL      85.81       1185  101684.85\n",
      " \n",
      "       NVDA     163.43        436   71255.48\n",
      " \n",
      "        IBM     124.27        811  100782.97\n",
      " \n",
      "          V     141.71        711100755.81000000001\n",
      " \n",
      "       GOOG    1094.43         92100687.56000000001\n",
      " \n",
      "      GOOGL    1109.65         91100978.15000000001\n",
      " \n",
      "         FB     140.61        64991255.89000000001\n",
      " \n",
      "       AAPL     178.58        45581253.90000000001\n",
      " \n",
      "         HP       60.6       1672101323.20000000001\n",
      " \n",
      "Portfolio Current Worth  951845.03\n",
      "\n",
      "Amount remaining in wallet  15.169999999972049\n",
      "\n",
      "\n",
      "Porfolio changes for the past  6  weeks\n",
      "  Week  1\n",
      "=============\n"
     ]
    },
    {
     "data": {
      "image/png": "[encoded data removed]",
      "text/plain": [
       "<Figure size 432x288 with 1 Axes>"
      ]
     },
     "metadata": {},
     "output_type": "display_data"
    },
    {
     "name": "stdout",
     "output_type": "stream",
     "text": [
      "  Week  2\n",
      "=============\n"
     ]
    },
    {
     "data": {
      "image/png": "[encoded data removed]",
      "text/plain": [
       "<Figure size 432x288 with 1 Axes>"
      ]
     },
     "metadata": {},
     "output_type": "display_data"
    },
    {
     "name": "stdout",
     "output_type": "stream",
     "text": [
      "  Week  3\n",
      "=============\n"
     ]
    },
    {
     "data": {
      "image/png": "[encoded data removed]",
      "text/plain": [
       "<Figure size 432x288 with 1 Axes>"
      ]
     },
     "metadata": {},
     "output_type": "display_data"
    },
    {
     "name": "stdout",
     "output_type": "stream",
     "text": [
      "  Week  4\n",
      "=============\n"
     ]
    },
    {
     "data": {
      "image/png": "[encoded data removed]",
      "text/plain": [
       "<Figure size 432x288 with 1 Axes>"
      ]
     },
     "metadata": {},
     "output_type": "display_data"
    },
    {
     "name": "stdout",
     "output_type": "stream",
     "text": [
      "  Week  5\n",
      "=============\n"
     ]
    },
    {
     "data": {
      "image/png": "[encoded data removed]",
      "text/plain": [
       "<Figure size 432x288 with 1 Axes>"
      ]
     },
     "metadata": {},
     "output_type": "display_data"
    },
    {
     "name": "stdout",
     "output_type": "stream",
     "text": [
      "  Week  6\n",
      "=============\n"
     ]
    },
    {
     "data": {
      "image/png": "[encoded data removed]",
      "text/plain": [
       "<Figure size 432x288 with 1 Axes>"
      ]
     },
     "metadata": {},
     "output_type": "display_data"
    }
   ],
   "source": [
    "\n",
    "\n",
    "set_w = set()\n",
    "for week in range(1, max_weeks+1):\n",
    "   \n",
    "    current_list = list(current_dict[week].keys())\n",
    "    c = numpy.array(current_list[0:10])\n",
    "    set_c = set(c)\n",
    "    if (week == 1):\n",
    "        set_w = set_c\n",
    "   \n",
    "    print (\"================================================ Week\",week,\" ================================================\")\n",
    "    print (\"\")\n",
    "    print (\"Current Portfolio is       \",set_w)\n",
    "    print (\"This week's top 10 list is \",set_c)\n",
    "    print (\"New ones to buy are        \",new_additions(set_w,set_c))\n",
    "    new = len(new_additions(set_w,set_c))\n",
    "\n",
    "    set_sell = sell_list(set_w,set_c)\n",
    "    print (\"Sell List                  \",set_sell)\n",
    "    \n",
    "    set_w = new_list(set_w,set_c)\n",
    "    print (\"New List is                \",set_w)\n",
    "\n",
    "    print (\"\")\n",
    "    print(\"Portfolio investment distribution\")\n",
    "    print(\"================================\")\n",
    "    if (week == 1):\n",
    "        wallet_bal[week] = create_porfolio(set_w,week,inv_amt)\n",
    "    else:\n",
    "        wallet_bal[week] = modify_porfolio(set_sell, new, set_w,week)\n",
    "\n",
    "    pretty_print(wallet_list[week])\n",
    "    #print(\"wallet start\")\n",
    "    #print(wallet_list)\n",
    "    #print(\"wallet end\")\n",
    "\n",
    "    print (\"Amount remaining in wallet \", wallet_bal[week])  \n",
    "\n",
    "    #current_list = list(current_dict[week+1].keys())\n",
    "    #c = numpy.array(current_list[0:10])\n",
    "    #set_c = set(c)\n",
    "    print (\"\")\n",
    "    print (\"\")\n",
    "    \n",
    "db_portfolio_wallet_update()\n",
    "\n",
    "    \n",
    "print(\"Porfolio changes for the past \", max_weeks, \" weeks\")\n",
    "\n",
    "for week in range(1, max_weeks+1):\n",
    "    print (\"  Week \", week)\n",
    "    print (\"=============\")\n",
    "    df = pd.DataFrame(wallet_list[week])\n",
    "    plt.pie(df[3], labels=df[0])\n",
    "    plt.show()"
   ]
  },
  {
   "cell_type": "code",
   "execution_count": 31,
   "metadata": {},
   "outputs": [
    {
     "data": {
      "text/plain": [
       "datetime.datetime"
      ]
     },
     "execution_count": 31,
     "metadata": {},
     "output_type": "execute_result"
    }
   ],
   "source": [
    "import datetime\n",
    "#datetime.datetime.today().strftime('%Y-%m-%d')\n",
    "type(datetime.datetime.now())"
   ]
  },
  {
   "cell_type": "code",
   "execution_count": null,
   "metadata": {},
   "outputs": [],
   "source": []
  },
  {
   "cell_type": "code",
   "execution_count": null,
   "metadata": {},
   "outputs": [],
   "source": []
  }
 ],
 "metadata": {
  "kernelspec": {
   "display_name": "Python 3",
   "language": "python",
   "name": "python3"
  },
  "language_info": {
   "codemirror_mode": {
    "name": "ipython",
    "version": 3
   },
   "file_extension": ".py",
   "mimetype": "text/x-python",
   "name": "python",
   "nbconvert_exporter": "python",
   "pygments_lexer": "ipython3",
   "version": "3.7.0"
  }
 },
 "nbformat": 4,
 "nbformat_minor": 2
}
